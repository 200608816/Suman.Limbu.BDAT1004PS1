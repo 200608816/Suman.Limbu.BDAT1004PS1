{
  "metadata": {
    "kernelspec": {
      "name": "python",
      "display_name": "Python (Pyodide)",
      "language": "python"
    },
    "language_info": {
      "codemirror_mode": {
        "name": "python",
        "version": 3
      },
      "file_extension": ".py",
      "mimetype": "text/x-python",
      "name": "python",
      "nbconvert_exporter": "python",
      "pygments_lexer": "ipython3",
      "version": "3.8"
    }
  },
  "nbformat_minor": 4,
  "nbformat": 4,
  "cells": [
    {
      "cell_type": "code",
      "source": "#Write (and evaluate) python expressions that answer these questions:\n#a How many letters are there in 'Supercalifragilisticexpialidocious'?\nword = 'Supercalifragilisticexpialidocious'\nnum_letters = len(word)\nprint(\"The number of letters in 'Supercalifragilisticexpialidocious' is:\", num_letters)\n\n\n\n\n#b. Does 'Supercalifragilisticexpialidocious' contain 'ice' as a substring?\nword = 'Supercalifragilisticexpialidocious'\nsubstring = 'ice'\nif substring in word:\n print(f\"Yes, '{substring}' is a substring of '{word}'.\")\nelse:\n  print(f\"No, '{substring}' is not a substring of '{word}'.\")\n\n\n#c.\tWhich of the following words is the longest: Supercalifragilisticexpialidocious, Honorificabilitudinitatibus, or Bababadalgharaghtakamminarronnkonn?\nword1 = 'Supercalifragilisticexpialidocious'\nword2 = 'Honorificabilitudinitatibus'\nword3 = 'Bababadalgharaghtakamminarronnkonn'\n\nlongest_word = max(word1, word2, word3, key=len)\n\nprint(f\"The longest word is: {longest_word}\")\n\n\n\n#d.\tWhich composer comes first in the dictionary: 'Berlioz', 'Borodin', 'Brian', 'Bartok', 'Bellini', 'Buxtehude', 'Bernstein'. Which one comes last?\n\ncomposers = ['Berlioz', 'Borodin', 'Brian', 'Bartok', 'Bellini', 'Buxtehude', 'Bernstein']\nfirst_composer = min(composers)\nlast_composer = max(composers)\nprint(f\"The first composer in the dictionary is: {first_composer}\")\nprint(f\"The last composer in the dictionary is: {last_composer}\")\n",
      "metadata": {
        "trusted": true
      },
      "outputs": [
        {
          "name": "stdout",
          "text": "The number of letters in 'Supercalifragilisticexpialidocious' is: 34\nYes, 'ice' is a substring of 'Supercalifragilisticexpialidocious'.\nThe longest word is: Supercalifragilisticexpialidocious\nThe first composer in the dictionary is: Bartok\nThe last composer in the dictionary is: Buxtehude\n",
          "output_type": "stream"
        }
      ],
      "execution_count": 4
    },
    {
      "cell_type": "code",
      "source": "",
      "metadata": {
        "trusted": true
      },
      "outputs": [],
      "execution_count": null
    }
  ]
}