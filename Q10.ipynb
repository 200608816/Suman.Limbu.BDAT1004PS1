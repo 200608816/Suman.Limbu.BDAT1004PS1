{
  "metadata": {
    "kernelspec": {
      "name": "python",
      "display_name": "Python (Pyodide)",
      "language": "python"
    },
    "language_info": {
      "codemirror_mode": {
        "name": "python",
        "version": 3
      },
      "file_extension": ".py",
      "mimetype": "text/x-python",
      "name": "python",
      "nbconvert_exporter": "python",
      "pygments_lexer": "ipython3",
      "version": "3.8"
    }
  },
  "nbformat_minor": 4,
  "nbformat": 4,
  "cells": [
    {
      "cell_type": "code",
      "source": "def letter_frequencies(input_text):\n    \"\"\"\n    Count how often each letter appears in the input string.\n\n    Parameters:\n    input_text (str): The string to analyze for letter frequency.\n\n    Returns:\n    list: A list of integers where each index corresponds to a letter's frequency from 'a' to 'z'.\n    \"\"\"\n    # Define a string containing all lowercase letters present\n    alphabet = 'abcdefghijklmnopqrstuvwxyz'\n    \n    # Create a list of zeros to count occurrences of each letter\n    frequency_count = [0] * 26  # Therre are 26 letters in the English alphabet\n    \n    # Convert the input text to lowercase to treat 'A' and 'a' the same\n    input_text = input_text.lower()\n\n  # Loop through each character in the input text\n    for char in input_text:\n        # Check if the character is a letter in the alphabet\n        if char in alphabet:\n            # Find the index of the letter in the alphabet\n            index = alphabet.index(char)\n            # Increment the count for this letter\n            frequency_count[index] += 1  # Increase the count at the corresponding index\n    \n    return frequency_count  # Return the list of letter frequencies\n\n\nprint(letter_frequencies('The quick red fox got bored and went home.'))  \nprint(letter_frequencies('apple'))",
      "metadata": {
        "trusted": true
      },
      "outputs": [
        {
          "name": "stderr",
          "text": "Traceback (most recent call last):\n  File \"/lib/python3.12/site-packages/pyodide_kernel/kernel.py\", line 90, in run\n    code = await self.lite_transform_manager.transform_cell(code)\n           ^^^^^^^^^^^^^^^^^^^^^^^^^^^^^^^^^^^^^^^^^^^^^^^^^^^^^^\n  File \"/lib/python3.12/site-packages/pyodide_kernel/litetransform.py\", line 34, in transform_cell\n    lines = await self.do_token_transforms(lines)\n            ^^^^^^^^^^^^^^^^^^^^^^^^^^^^^^^^^^^^^\n  File \"/lib/python3.12/site-packages/pyodide_kernel/litetransform.py\", line 39, in do_token_transforms\n    changed, lines = await self.do_one_token_transform(lines)\n                     ^^^^^^^^^^^^^^^^^^^^^^^^^^^^^^^^^^^^^^^^\n  File \"/lib/python3.12/site-packages/pyodide_kernel/litetransform.py\", line 59, in do_one_token_transform\n    tokens_by_line = make_tokens_by_line(lines)\n                     ^^^^^^^^^^^^^^^^^^^^^^^^^^\n  File \"/lib/python3.12/site-packages/IPython/core/inputtransformer2.py\", line 535, in make_tokens_by_line\n    for token in tokenutil.generate_tokens_catch_errors(\n  File \"/lib/python3.12/site-packages/IPython/utils/tokenutil.py\", line 40, in generate_tokens_catch_errors\n    for token in tokenize.generate_tokens(readline):\n  File \"/lib/python312.zip/tokenize.py\", line 541, in _generate_tokens_from_c_tokenizer\n    raise e from None\n  File \"/lib/python312.zip/tokenize.py\", line 537, in _generate_tokens_from_c_tokenizer\n    for info in it:\n  File \"<string>\", line 20\n     # Loop through each character in the input text\n                                                    ^\nIndentationError: unindent does not match any outer indentation level\n\nIf you suspect this is an IPython 8.23.0 bug, please report it at:\n    https://github.com/ipython/ipython/issues\nor send an email to the mailing list at ipython-dev@python.org\n\nYou can print a more detailed traceback right now with \"%tb\", or use \"%debug\"\nto interactively debug it.\n\nExtra-detailed tracebacks for bug-reporting purposes can be enabled via:\n    %config Application.verbose_crash=True\n\n",
          "output_type": "stream"
        }
      ],
      "execution_count": null
    },
    {
      "cell_type": "code",
      "source": "",
      "metadata": {
        "trusted": true
      },
      "outputs": [],
      "execution_count": null
    },
    {
      "cell_type": "code",
      "source": "",
      "metadata": {
        "trusted": true
      },
      "outputs": [],
      "execution_count": null
    }
  ]
}