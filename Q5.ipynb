{
  "metadata": {
    "kernelspec": {
      "name": "python",
      "display_name": "Python (Pyodide)",
      "language": "python"
    },
    "language_info": {
      "codemirror_mode": {
        "name": "python",
        "version": 3
      },
      "file_extension": ".py",
      "mimetype": "text/x-python",
      "name": "python",
      "nbconvert_exporter": "python",
      "pygments_lexer": "ipython3",
      "version": "3.8"
    }
  },
  "nbformat_minor": 4,
  "nbformat": 4,
  "cells": [
    {
      "cell_type": "code",
      "source": ". #a.Write a function inside(x,y,x1,y1,x2,y2) that returns True or False depending on whether the point (x,y) lies in the rectangle with lower left corner (x1,y1) and upper right corner (x2,y2).\n#>>> inside(1,1,0,0,2,3)\n#True\n#>>> inside(-1,-1,0,0,2,3)\n#False\n",
      "metadata": {
        "trusted": true
      },
      "outputs": [],
      "execution_count": null
    },
    {
      "cell_type": "code",
      "source": "def inside(x, y, x1, y1, x2, y2):\n   \n\n    return x1 <= x <= x2 and y1 <= y <= y2\n\n\nprint(inside(1, 1, 0, 0, 2, 3)) \nprint(inside(-1, -1, 0, 0, 2, 3)) \n",
      "metadata": {
        "trusted": true
      },
      "outputs": [
        {
          "name": "stdout",
          "text": "True\nFalse\n",
          "output_type": "stream"
        }
      ],
      "execution_count": 9
    },
    {
      "cell_type": "code",
      "source": "#Use function inside() from part a. to write an expression that tests whether the point (1,1) lies in both of the following rectangles: one with lower left corner (0.3, 0.5) and upper right corner (1.1, 0.7) and the other with lower left corner (0.5, 0.2) and upper right corner (1.1, 2).",
      "metadata": {
        "trusted": true
      },
      "outputs": [],
      "execution_count": null
    },
    {
      "cell_type": "code",
      "source": "",
      "metadata": {
        "trusted": true
      },
      "outputs": [],
      "execution_count": null
    },
    {
      "cell_type": "code",
      "source": "def inside(x, y, x1, y1, x2, y2):\n    return x1 <= x <= x2 and y1 <= y <= y2\n\npoint_x = 1\npoint_y = 1\n\nrectangle1 = inside(point_x, point_y, 0.3, 0.5, 1.1, 0.7)\n\nrectangle2 = inside(point_x, point_y, 0.5, 0.2, 1.1, 2)\n\nboth_inside = rectangle1 and rectangle2\n\nprint(f\"Point (1, 1) in Rectangle 1: {rectangle1}\")  \t\t\nprint(f\"Point (1, 1) in Rectangle 2: {rectangle2}\")  \t\t\nprint(f\"Point (1, 1) in both rectangles: {both_inside}\")             \n",
      "metadata": {
        "trusted": true
      },
      "outputs": [
        {
          "name": "stdout",
          "text": "Point (1, 1) in Rectangle 1: False\nPoint (1, 1) in Rectangle 2: True\nPoint (1, 1) in both rectangles: False\n",
          "output_type": "stream"
        }
      ],
      "execution_count": 10
    },
    {
      "cell_type": "code",
      "source": "",
      "metadata": {
        "trusted": true
      },
      "outputs": [],
      "execution_count": null
    }
  ]
}