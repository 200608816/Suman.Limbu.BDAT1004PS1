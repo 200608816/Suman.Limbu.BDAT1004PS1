{
  "metadata": {
    "kernelspec": {
      "name": "python",
      "display_name": "Python (Pyodide)",
      "language": "python"
    },
    "language_info": {
      "codemirror_mode": {
        "name": "python",
        "version": 3
      },
      "file_extension": ".py",
      "mimetype": "text/x-python",
      "name": "python",
      "nbconvert_exporter": "python",
      "pygments_lexer": "ipython3",
      "version": "3.8"
    }
  },
  "nbformat_minor": 4,
  "nbformat": 4,
  "cells": [
    {
      "cell_type": "code",
      "source": "import math\n\n# 1. TypeError: Trying to add incompatible variables\ntry:\n    result = 6 + 'a'\nexcept TypeError as e:\n    print(f\"TypeError: {e}\")\n\n# 2. IndexError: Referring to the 12th item of a list that has only 10 items\ntry:\n    my_list = [1, 2, 3, 4, 5, 6, 7, 8, 9, 10]\n    item = my_list[11]  # 12th item (index 11)\nexcept IndexError as e:\n    print(f\"IndexError: {e}\")\n\n# 3. ValueError: Using a value that is out of range for a function’s input (math.sqrt(-1.0))\ntry:\n    result = math.sqrt(-1.0)\nexcept ValueError as e:\n    print(f\"ValueError: {e}\")\n\n# 4. NameError: Using an undeclared variable\ntry:\n    print(x)  # x is not defined\nexcept NameError as e:\n    print(f\"NameError: {e}\")\n\n# 5. FileNotFoundError: Trying to open a file that does not exist\ntry:\n    with open('non_existent_file.txt', 'r') as file:\n        content = file.read()\nexcept FileNotFoundError as e:\n    print(f\"FileNotFoundError: {e}\")\n",
      "metadata": {
        "trusted": true
      },
      "outputs": [
        {
          "name": "stdout",
          "text": "TypeError: unsupported operand type(s) for +: 'int' and 'str'\nIndexError: list index out of range\nValueError: math domain error\nNameError: name 'x' is not defined\nFileNotFoundError: [Errno 44] No such file or directory: 'non_existent_file.txt'\n",
          "output_type": "stream"
        }
      ],
      "execution_count": 34
    },
    {
      "cell_type": "code",
      "source": "",
      "metadata": {
        "trusted": true
      },
      "outputs": [],
      "execution_count": null
    },
    {
      "cell_type": "code",
      "source": "",
      "metadata": {
        "trusted": true
      },
      "outputs": [],
      "execution_count": null
    },
    {
      "cell_type": "code",
      "source": "",
      "metadata": {
        "trusted": true
      },
      "outputs": [],
      "execution_count": null
    }
  ]
}